{
 "cells": [
  {
   "cell_type": "markdown",
   "id": "5ee32ce4",
   "metadata": {},
   "source": [
    "# HW2"
   ]
  },
  {
   "cell_type": "markdown",
   "id": "1eb0550f",
   "metadata": {},
   "source": [
    "## Q3"
   ]
  },
  {
   "cell_type": "code",
   "execution_count": 1,
   "id": "e641aa77",
   "metadata": {},
   "outputs": [
    {
     "name": "stdout",
     "output_type": "stream",
     "text": [
      "Probability of winning when switching: 0.6698\n",
      "Probability of winning when staying: 0.3305\n"
     ]
    }
   ],
   "source": [
    "import random\n",
    "\n",
    "def monty_hall(simulations=10000, switch=True):\n",
    "    \"\"\"\n",
    "    Simulates the Monty Hall problem.\n",
    "\n",
    "    Parameters:\n",
    "    simulations (int): Number of times to run the simulation.\n",
    "    switch (bool): Whether the contestant switches doors.\n",
    "\n",
    "    Returns:\n",
    "    float: The probability of winning by switching or staying.\n",
    "    \"\"\"\n",
    "    wins = 0  # Counter for the number of wins\n",
    "\n",
    "    for _ in range(simulations):\n",
    "        # Step 1: Set up the doors and place the prize\n",
    "        doors = [0, 0, 0]  # Three doors, initially all without the prize\n",
    "        prize_door = random.randint(0, 2)  # Randomly place the prize behind one door\n",
    "        doors[prize_door] = 1  # Mark the prize door\n",
    "\n",
    "        # Step 2: Contestant makes an initial choice\n",
    "        initial_choice = random.randint(0, 2)\n",
    "\n",
    "        # Step 3: Monty opens a door that is neither the prize nor the contestant's choice\n",
    "        available_doors = [i for i in range(3) if i != initial_choice and doors[i] == 0]\n",
    "        monty_opens = random.choice(available_doors)\n",
    "\n",
    "        # Step 4: Contestant makes the final choice based on the switch decision\n",
    "        if switch:\n",
    "            # Switch to the other unopened door\n",
    "            final_choice = 3 - initial_choice - monty_opens  # Math trick to find the remaining door\n",
    "        else:\n",
    "            # Stay with the initial choice\n",
    "            final_choice = initial_choice\n",
    "\n",
    "        # Step 5: Check if the contestant wins\n",
    "        if doors[final_choice] == 1:\n",
    "            wins += 1  # Increment wins if the final choice is the prize door\n",
    "\n",
    "    # Step 6: Return the probability of winning\n",
    "    return wins / simulations\n",
    "\n",
    "# Running the simulations\n",
    "switch_win_prob = monty_hall(switch=True)\n",
    "stay_win_prob = monty_hall(switch=False)\n",
    "\n",
    "print(f\"Probability of winning when switching: {switch_win_prob:.4f}\")\n",
    "print(f\"Probability of winning when staying: {stay_win_prob:.4f}\")\n"
   ]
  },
  {
   "cell_type": "markdown",
   "id": "1c355fc3",
   "metadata": {},
   "source": [
    "## Q6"
   ]
  },
  {
   "cell_type": "markdown",
   "id": "9dd795dd",
   "metadata": {},
   "source": [
    "### 1."
   ]
  },
  {
   "cell_type": "markdown",
   "id": "d3c15221",
   "metadata": {},
   "source": [
    "It could be a little bit slow when giving out long answers since it need to provide it word by word but generally it is pretty fast.Chat almost spent no time reading the code and just stared to answer at once."
   ]
  },
  {
   "cell_type": "markdown",
   "id": "821904ed",
   "metadata": {},
   "source": [
    "### 2."
   ]
  },
  {
   "cell_type": "markdown",
   "id": "68080fc4",
   "metadata": {},
   "source": [
    "I've tried that.(not this time though) I feel it truly helpful. It give explainations step by step and also examples. That is much better than  just reading the code and search for explainations line by line. "
   ]
  },
  {
   "cell_type": "markdown",
   "id": "1120accc",
   "metadata": {},
   "source": [
    "### 3."
   ]
  },
  {
   "cell_type": "markdown",
   "id": "c9289fb2",
   "metadata": {},
   "source": [
    "It's helpful and easy to use in general. The best thing is it can explain the code by steps,show their meanings and figure out what function is used. Then I can ask more specific quesions like how this function works or how can I use it, instead of feeling upset for not knowing how to start. However, when I come to a certain problem it is not expected, it's hard for it to come up with a solution. One example is that I asked it why my operations are all right but I cannot run a certain cell to get output(the real reason was that it needed some time to produce and I did not wait). Chat just repeatedly told me the operations to run a cell and when I said I really did that it could only give solutions like restart."
   ]
  },
  {
   "cell_type": "code",
   "execution_count": null,
   "id": "0e05d0f3",
   "metadata": {},
   "outputs": [],
   "source": []
  },
  {
   "cell_type": "markdown",
   "id": "8d1c34d7",
   "metadata": {},
   "source": [
    "## Q7"
   ]
  },
  {
   "cell_type": "markdown",
   "id": "5a83e735",
   "metadata": {},
   "source": [
    "At first I did not think AI-driven assistance tools can help much in learning coding, statistics and data science. I thought it would just give out the answers and skip the process of learning. That would make me cannot remember methods or cannot keep things in mind for long. But it turns out to be a very useful tool since it not only gives the answer but also theory and examples. It will even explain it. When I come to problems, I can ask it and it can explain the specific point again which is really helpful. It's like a textbook that can interact with me. Amazing!"
   ]
  },
  {
   "cell_type": "markdown",
   "id": "c6010a45",
   "metadata": {},
   "source": [
    "## Chatbot History"
   ]
  },
  {
   "cell_type": "markdown",
   "id": "2e6f3e03",
   "metadata": {},
   "source": [
    "### The First Chat"
   ]
  },
  {
   "cell_type": "markdown",
   "id": "aecd135d",
   "metadata": {},
   "source": [
    "\n",
    "\n",
    "1. **Monty Hall Game Code:**\n",
    "   - You asked for the Python code to simulate the Monty Hall game.\n",
    "   - I provided the full code for simulating the Monty Hall problem with explanations.\n",
    "\n",
    "2. **Step-by-Step Explanation:**\n",
    "   - You asked for a step-by-step explanation of the code.\n",
    "   - I provided a detailed breakdown of each step in the code and explained the logic.\n",
    "\n",
    "3. **Simplifying the Code:**\n",
    "   - You asked to simplify the for-loop in the simulation to make the code easier to read.\n",
    "   - I refactored the code to make it more readable and provided the updated version along with explanations of the simplifications.\n",
    "\n"
   ]
  },
  {
   "cell_type": "markdown",
   "id": "3535ef28",
   "metadata": {},
   "source": [
    "https://chatgpt.com/c/66e4588c-2a10-8004-aa26-d319c555b500"
   ]
  },
  {
   "cell_type": "markdown",
   "id": "bf145f52",
   "metadata": {},
   "source": [
    "### The Second Chat"
   ]
  },
  {
   "cell_type": "markdown",
   "id": "d2ef9f38",
   "metadata": {},
   "source": [
    "\n",
    "\n",
    "#### 1. **Markovian Chatbot (Single Word-Based Model)**:\n",
    "   - **Overview**: This initial code uses a Markov chain to model word sequences based on single-word dependencies. It tracks the frequency of each word and which words typically follow it.\n",
    "   - **Process**:\n",
    "     - The variable `words` holds a list of words (likely a sentence or dialogue).\n",
    "     - Two dictionaries, `word_used` and `next_word`, are employed:\n",
    "       - `word_used` tracks how often each word appears.\n",
    "       - `next_word` tracks which words follow a given word and how often they follow it.\n",
    "     - The loop iterates over each word (excluding the last one) and updates the counts in both dictionaries.\n",
    "   - **Purpose**: This structure can be used to generate text by predicting the next word based on how frequently it follows the current word, creating a simple chatbot that can generate sentences.\n",
    "\n",
    "#### 2. **Two-Word Markov Chain Extension**:\n",
    "   - **Overview**: This extension builds upon the first model by tracking word pairs instead of single words. It predicts the next word based on two consecutive words, adding more context to each prediction.\n",
    "   - **Process**:\n",
    "     - Similar to the first snippet, it processes the `words` list, but now it looks at two consecutive words (`word + ' ' + words[i+1]`) to form a \"word pair.\"\n",
    "     - Two new dictionaries are introduced:\n",
    "       - `word_used2` counts how often a particular word pair appears.\n",
    "       - `next_word2` tracks the next word that follows each word pair and counts how often it appears.\n",
    "     - The loop iterates over the list, stopping two words before the end, and updates the counts for each word pair and the word that follows them.\n",
    "   - **Example**:\n",
    "     - For an input like `[\"I\", \"love\", \"ice\", \"cream\", \"I\", \"love\", \"chocolate\"]`, it would track word pairs like `\"I love\"` and how often `\"ice\"` or `\"chocolate\"` follows them.\n",
    "   - **Purpose**: This two-word Markov chain adds more context to each prediction, resulting in more coherent and natural text generation than the single-word model.\n",
    "\n",
    "#### 3. **Character-Specific Markov Model**:\n",
    "   - **Overview**: This code extends the Markov chain concept to work with a dataset (`avatar`), where one column (`character`) contains the names of speakers or characters. It builds separate Markov models for each character, allowing the chatbot to mimic specific speech patterns for different characters.\n",
    "   - **Process**:\n",
    "     - A `Counter` object is created to store the frequency of character names from the `avatar.character` column, converting names to uppercase and replacing spaces with dots (`.`).\n",
    "     - The main data structures are `word_used2C` and `next_word2C`, which store information for each character:\n",
    "       - `word_used2C` tracks how often a given word pair appears in the dialogue of a specific character.\n",
    "       - `next_word2C` tracks which words typically follow those word pairs, again character-specific.\n",
    "     - The loop processes the `words` list:\n",
    "       - If a word matches a character name, it identifies the current speaker.\n",
    "       - For each word pair, it updates the relevant dictionaries, associating the word pair and following word with the identified character.\n",
    "   - **Example**:\n",
    "     - If `words = [\"Aang\", \"Hello\", \"there\", \"Aang\", \"How\", \"are\", \"you\"]`, it identifies \"Aang\" as the speaker, and the word pair `\"Hello there\"` would be associated with Aang.\n",
    "   - **Purpose**: This extension allows the chatbot to generate character-specific responses, reflecting how different characters speak by building separate Markov chains for each character. It can be used in chatbots where dialogue is expected to vary based on the character, like in games or TV show-based bots.\n",
    "\n",
    "#### Summary of Key Enhancements:\n",
    "- **First Code**: Generates text based on single-word dependencies.\n",
    "- **Second Code**: Improves coherence by using two-word dependencies, providing better predictions.\n",
    "- **Third Code**: Adds a layer of complexity by associating word pairs and their next words with specific characters, enabling personalized text generation for multiple speakers.\n",
    "\n",
    "Each of these extensions progressively improves the chatbot’s ability to generate more contextual, coherent, and character-specific text."
   ]
  },
  {
   "cell_type": "markdown",
   "id": "27c472ce",
   "metadata": {},
   "source": [
    "https://chatgpt.com/c/66e853b1-09a0-8004-b40e-43498c960cf4"
   ]
  },
  {
   "cell_type": "markdown",
   "id": "a5494589",
   "metadata": {},
   "source": [
    "### The Third Chat"
   ]
  },
  {
   "cell_type": "markdown",
   "id": "1a31a8b8",
   "metadata": {},
   "source": [
    "In this session, we discussed the relevance of several key skills in the modern world, focusing on learning and adaptability, communication, coding, and statistics and data analysis. Here's a summary:\n",
    "\n",
    "1. **Learning and Adaptability**: Essential for staying relevant in a fast-changing world. It helps in pivoting to new challenges and opportunities.\n",
    "\n",
    "2. **Communication**: Crucial for effective teamwork, leadership, and client interaction. Strong communication skills are valued across various fields.\n",
    "\n",
    "3. **Coding**: Important for technical roles, particularly in software development and data science. Coding skills help in automating tasks and working with technology.\n",
    "\n",
    "4. **Statistics and Data Analysis**: Vital for making data-informed decisions and understanding trends. Key for careers in data science, business analysis, and related fields.\n",
    "\n",
    "We also discussed alternative paths for those interested in data but not strong in coding:\n",
    "\n",
    "- **Non-Coding Roles**: Data analysis using tools, business intelligence, and data visualization.\n",
    "- **Statistical Software**: Using tools like SPSS or SAS for statistical analysis.\n",
    "- **Analytical Skills**: Focusing on statistics and domain knowledge.\n",
    "- **Collaboration**: Working with technical teams who handle coding.\n",
    "- **Gradual Learning**: Improving coding skills gradually through basic courses.\n",
    "- **Data Management**: Roles focused on organizing and maintaining data.\n",
    "- **Consulting and Training**: Offering expertise in data interpretation and conducting training sessions.\n",
    "\n",
    "Overall, even if coding isn’t a strong suit, there are numerous opportunities in the data field that leverage other skills."
   ]
  },
  {
   "cell_type": "markdown",
   "id": "630a81cb",
   "metadata": {},
   "source": [
    "https://chatgpt.com/c/66e85e13-ee10-8004-89b3-b5ee30f8d9c4"
   ]
  },
  {
   "cell_type": "code",
   "execution_count": null,
   "id": "b5568d6a",
   "metadata": {},
   "outputs": [],
   "source": []
  }
 ],
 "metadata": {
  "kernelspec": {
   "display_name": "Python 3 (ipykernel)",
   "language": "python",
   "name": "python3"
  },
  "language_info": {
   "codemirror_mode": {
    "name": "ipython",
    "version": 3
   },
   "file_extension": ".py",
   "mimetype": "text/x-python",
   "name": "python",
   "nbconvert_exporter": "python",
   "pygments_lexer": "ipython3",
   "version": "3.11.6"
  }
 },
 "nbformat": 4,
 "nbformat_minor": 5
}
