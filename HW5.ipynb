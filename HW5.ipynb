{
 "cells": [
  {
   "cell_type": "markdown",
   "id": "27c9df26",
   "metadata": {},
   "source": [
    "# HW5 "
   ]
  },
  {
   "cell_type": "markdown",
   "id": "c502af12",
   "metadata": {},
   "source": [
    "## Q2"
   ]
  },
  {
   "cell_type": "markdown",
   "id": "f37d02bc",
   "metadata": {},
   "source": [
    "Datasets are often very large. To get to know them, we seldom read it compeletely, instead, we get samples from the dataset and use samples to estimate the perform of the dataset.So when testing the outcome, we use the population parameter that is the \"correct answer\" to ensure the outcome fits our dataset.\n",
    "\n",
    "\n",
    "$ x_i $: Individual data points, like a person’s height or income.\n",
    "\n",
    "$  \\bar{x} $: The average of these data points in the sample.\n",
    "\n",
    "$  \\mu $: The true average of the entire population, which we don’t usually know.\n",
    "\n",
    "$  \\mu_0 $: A specific value we’re testing, like “is the population average equal to 50?”\n",
    "\n",
    "\n",
    "So, the test results help us draw conclusions about $ \\mu $ (the population’s true average), not just the average $\\bar{x} $ from our small sample."
   ]
  },
  {
   "cell_type": "markdown",
   "id": "aa1ae3b0",
   "metadata": {},
   "source": [
    "## Q3"
   ]
  },
  {
   "cell_type": "markdown",
   "id": "4be5a653",
   "metadata": {},
   "source": [
    "We want to show that the null hypothese is False, while its hard to deny directly. We first assume it is true and calculate the p-value then we see the possibility of null hypothese to be true."
   ]
  },
  {
   "cell_type": "markdown",
   "id": "f5d179e1",
   "metadata": {},
   "source": [
    "## Q4"
   ]
  },
  {
   "cell_type": "markdown",
   "id": "22610ed8",
   "metadata": {},
   "source": [
    "When we calculate a p-value, we’re comparing the observed test statistic to the sampling distribution of the test statistic under the assumption that the null hypothesis is true. A small p-value means our observed test statistic is far from the typical values we’d expect if the null hypothesis were true, suggesting that the observed result is unusual and doesn't fit well with the null hypothesis. "
   ]
  },
  {
   "cell_type": "markdown",
   "id": "36584f62",
   "metadata": {},
   "source": [
    "## Q5"
   ]
  },
  {
   "cell_type": "code",
   "execution_count": 1,
   "id": "7362938a",
   "metadata": {},
   "outputs": [
    {
     "name": "stdout",
     "output_type": "stream",
     "text": [
      "P-value: 0.0008\n"
     ]
    }
   ],
   "source": [
    "import numpy as np\n",
    "\n",
    "# Given data\n",
    "n_couples = 124\n",
    "observed_right_tilts = 80\n",
    "null_probability = 0.5\n",
    "n_simulations = 10000\n",
    "\n",
    "# Simulate coin flips under the null hypothesis\n",
    "simulated_right_tilts = np.random.binomial(n=n_couples, p=null_probability, size=n_simulations)\n",
    "\n",
    "# Calculate p-value (proportion of simulations where the number of \"right-tilts\" >= observed 80)\n",
    "p_value = np.mean(simulated_right_tilts >= observed_right_tilts)\n",
    "\n",
    "# Print the p-value\n",
    "print(f\"P-value: {p_value}\")\n"
   ]
  },
  {
   "cell_type": "markdown",
   "id": "92c4efd2",
   "metadata": {},
   "source": [
    "## Q6"
   ]
  },
  {
   "cell_type": "markdown",
   "id": "2a27cdae",
   "metadata": {},
   "source": [
    "a smaller p-value makes the null hypothesis less plausible, but it never definitively proves it false. The decision to reject the null depends on context, the p-value threshold used, and the overall design of the study."
   ]
  },
  {
   "cell_type": "markdown",
   "id": "3a84ea1d",
   "metadata": {},
   "source": [
    "## Q8"
   ]
  },
  {
   "cell_type": "markdown",
   "id": "4102488f",
   "metadata": {},
   "source": [
    "Null Hypothesis $(H_0)$: The probability of correctly state which was poured first is 50/50, or p=0.5. So, any deviation from 50% is due to random chance.\n",
    "\n",
    "Alternating hypothesis$(H_A)$: This tests whether the probability is different from 50%, in either direction (greater or less than 50%), or p≠0.5\n",
    "\n",
    "Observed Proportion: In the real data, 49 out of a sample of 80 students are able to correctly state which was poured first, or 61.25% able to correctly state which was poured first."
   ]
  },
  {
   "cell_type": "code",
   "execution_count": 3,
   "id": "8b63447b",
   "metadata": {},
   "outputs": [
    {
     "name": "stdout",
     "output_type": "stream",
     "text": [
      "Observed Proportion: 0.6125\n",
      "Z-score: 2.0125\n",
      "P-value: 0.0442\n"
     ]
    }
   ],
   "source": [
    "import numpy as np\n",
    "from scipy.stats import norm\n",
    "\n",
    "# Given values\n",
    "p_null = 0.5  # Null hypothesis proportion (50%)\n",
    "correct_answers = 49  # Number of correct answers\n",
    "n = 80  # Total number of students\n",
    "\n",
    "# Calculate the observed proportion\n",
    "observed_p = correct_answers / n  # Proportion of correct answers\n",
    "\n",
    "# Calculate standard error\n",
    "standard_error = np.sqrt((p_null * (1 - p_null)) / n)\n",
    "\n",
    "# Calculate z-score\n",
    "z_score = (observed_p - p_null) / standard_error\n",
    "\n",
    "# Calculate p-value (two-tailed test)\n",
    "p_value = 2 * (1 - norm.cdf(abs(z_score)))\n",
    "\n",
    "# Print results\n",
    "print(f\"Observed Proportion: {observed_p:.4f}\")\n",
    "print(f\"Z-score: {z_score:.4f}\")\n",
    "print(f\"P-value: {p_value:.4f}\")\n"
   ]
  },
  {
   "cell_type": "markdown",
   "id": "d1712c5b",
   "metadata": {},
   "source": [
    "|p-value|Evidence|\n",
    "|-|-|\n",
    "|$$p > 0.1$$|No evidence against the null hypothesis|\n",
    "|$$0.1 \\ge p > 0.05$$|Weak evidence against the null hypothesis|\n",
    "|$$0.05 \\ge p > 0.01$$|Moderate evidence against the null hypothesis|\n",
    "|$$0.01 \\ge p > 0.001$$|Strong evidence against the null hypothesis|\n",
    "|$$0.001 \\ge p$$|Very strong evidence against the null hypothesis|"
   ]
  },
  {
   "cell_type": "markdown",
   "id": "fff3c0f5",
   "metadata": {},
   "source": [
    "According to the table, there is moderate evidence against the null hypothesis, suggesting a real difference in the ability to identify which was poured first. "
   ]
  },
  {
   "cell_type": "markdown",
   "id": "0205d70f",
   "metadata": {},
   "source": [
    "## Chatbot History"
   ]
  },
  {
   "cell_type": "markdown",
   "id": "4130ca13",
   "metadata": {},
   "source": [
    "\n",
    "\n",
    "1. **Hypothesis Testing Basics**: We discussed the distinctions between the null hypothesis (\\(H_0\\)) and alternative hypothesis (\\(H_A\\)), explaining their definitions and roles in hypothesis testing.\n",
    "\n",
    "2. **Specific Example**:\n",
    "   - You provided a specific scenario where the null hypothesis is that the probability of correctly stating which was poured first (tea or milk) is 50% (\\(p = 0.5\\)).\n",
    "   - The alternative hypothesis was defined as \\(H_A: p \\neq 0.5\\).\n",
    "\n",
    "3. **Observed Proportion**: You mentioned that in your sample of 80 students, 49 were able to correctly state which was poured first, leading to an observed proportion of 61.25%.\n",
    "\n",
    "4. **Hypothesis Test Setup**:\n",
    "   - We outlined the steps for conducting a hypothesis test for this scenario, including calculating the standard error, z-score, and p-value.\n",
    "\n",
    "5. **Calculations**:\n",
    "   - I performed the calculations for the z-score and p-value based on the provided data, resulting in a z-score of approximately 2.01 and a p-value of around 0.044.\n",
    "\n",
    "6. **Interpretation of Results**:\n",
    "   - We interpreted the results, concluding that since the p-value was less than the common significance level of 0.05, we could reject the null hypothesis, indicating a significant difference in the ability of students to identify which was poured first.\n",
    "\n",
    "7. **Code for Hypothesis Testing**:\n",
    "   - You requested the Python code to perform the calculations, which I provided along with a detailed explanation of each step in the code.\n",
    "\n"
   ]
  },
  {
   "cell_type": "markdown",
   "id": "f6c2dc51",
   "metadata": {},
   "source": [
    "https://chatgpt.com/c/6704411f-a1e4-8004-90c0-e41f88e72c01"
   ]
  },
  {
   "cell_type": "code",
   "execution_count": null,
   "id": "0683e4e8",
   "metadata": {},
   "outputs": [],
   "source": []
  }
 ],
 "metadata": {
  "kernelspec": {
   "display_name": "Python 3 (ipykernel)",
   "language": "python",
   "name": "python3"
  },
  "language_info": {
   "codemirror_mode": {
    "name": "ipython",
    "version": 3
   },
   "file_extension": ".py",
   "mimetype": "text/x-python",
   "name": "python",
   "nbconvert_exporter": "python",
   "pygments_lexer": "ipython3",
   "version": "3.11.6"
  }
 },
 "nbformat": 4,
 "nbformat_minor": 5
}
