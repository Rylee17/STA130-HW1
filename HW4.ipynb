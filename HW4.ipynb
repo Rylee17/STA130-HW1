{
 "cells": [
  {
   "cell_type": "markdown",
   "id": "5fe7ce15",
   "metadata": {},
   "source": [
    "# HW4 146"
   ]
  },
  {
   "cell_type": "markdown",
   "id": "3f1e4b5a",
   "metadata": {},
   "source": [
    "## Q1"
   ]
  },
  {
   "cell_type": "markdown",
   "id": "883f4b73",
   "metadata": {},
   "source": [
    "**standard diviation** shows the difference between original data.\n",
    "\n",
    "**standard error of mean** shows the difference between means of sample and populantion."
   ]
  },
  {
   "cell_type": "markdown",
   "id": "9dfa5be0",
   "metadata": {},
   "source": [
    "## Q2"
   ]
  },
  {
   "cell_type": "markdown",
   "id": "004f054b",
   "metadata": {},
   "source": [
    "**1.** calculate the SEM by "
   ]
  },
  {
   "cell_type": "markdown",
   "id": "4510c094",
   "metadata": {},
   "source": [
    "\n",
    "\n",
    "$$\n",
    "SEM = \\frac{SD}{\\sqrt{n}}\n",
    "$$\n",
    "\n",
    "where:\n",
    "- \\( SD \\) is the standard deviation of the sample,\n",
    "- \\( n \\) is the sample size.\n",
    "\n",
    "\n"
   ]
  },
  {
   "cell_type": "markdown",
   "id": "d003f48c",
   "metadata": {},
   "source": [
    "**2.** figure out z-score in normal distribution"
   ]
  },
  {
   "cell_type": "markdown",
   "id": "3e365866",
   "metadata": {},
   "source": [
    "**3.** figure out the mean of the sample"
   ]
  },
  {
   "cell_type": "markdown",
   "id": "e66823d5",
   "metadata": {},
   "source": [
    "**4.** calculate CI by"
   ]
  },
  {
   "cell_type": "markdown",
   "id": "9f0b1adb",
   "metadata": {},
   "source": [
    "$$\n",
    "CI = \\bar{x} \\pm z \\times SEM\n",
    "$$\n",
    "\n",
    "where:\n",
    "- \\(  $\\bar{x} $.) is the sample mean,\n",
    "- \\( z \\) is the z-score corresponding to the desired confidence level (1.96 for 95% confidence),\n",
    "- \\( SEM \\) is the standard error of the mean.\n"
   ]
  },
  {
   "cell_type": "markdown",
   "id": "ac2ce55b",
   "metadata": {},
   "source": [
    "## Q4"
   ]
  },
  {
   "cell_type": "code",
   "execution_count": 4,
   "id": "e5b96ccb",
   "metadata": {},
   "outputs": [
    {
     "name": "stdout",
     "output_type": "stream",
     "text": [
      "95% Bootstrap Confidence Interval for the Population Mean: (12.7, 15.8)\n"
     ]
    }
   ],
   "source": [
    "import numpy as np\n",
    "\n",
    "# Sample data (replace this with your actual data)\n",
    "data = np.array([12, 15, 14, 10, 13, 14, 16, 17, 19, 12])\n",
    "\n",
    "# Number of bootstrap samples\n",
    "n_bootstraps = 10000\n",
    "\n",
    "# To store bootstrap sample statistics (mean in this case)\n",
    "boot_means = []\n",
    "\n",
    "# Bootstrap resampling\n",
    "for _ in range(n_bootstraps):\n",
    "    # Generate a bootstrap sample by sampling with replacement from the data\n",
    "    boot_sample = np.random.choice(data, size=len(data), replace=True)\n",
    "    \n",
    "    # Calculate the statistic for this sample (mean in this case)\n",
    "    boot_means.append(np.mean(boot_sample))  # Change np.mean to np.median for the median\n",
    "\n",
    "# Calculate the 95% confidence interval based on the 2.5th and 97.5th percentiles\n",
    "lower_bound = np.percentile(boot_means, 2.5)\n",
    "upper_bound = np.percentile(boot_means, 97.5)\n",
    "\n",
    "# Output the results\n",
    "print(f\"95% Bootstrap Confidence Interval for the Population Mean: ({lower_bound}, {upper_bound})\")\n",
    "\n",
    "# Example to produce a 95% bootstrap confidence interval for population median:\n",
    "# Just replace np.mean with np.median in the boot_means.append() line to calculate the median instead of the mean.\n",
    "# boot_means.append(np.median(boot_sample))\n",
    "\n"
   ]
  },
  {
   "cell_type": "markdown",
   "id": "75d01779",
   "metadata": {},
   "source": [
    "## Q6"
   ]
  },
  {
   "cell_type": "markdown",
   "id": "4ea520f6",
   "metadata": {},
   "source": [
    "**What is the process of bootstrapping?**\n",
    "\n",
    "1.replacement:draw some new samples from the dataset.New samples shoule be the same size as the original one.\n",
    "\n",
    "2.statistics:calculate mean, median and other statistics for the new sample.\n",
    "\n",
    "3.repeat the process\n",
    "\n",
    "4.ues all these new samples to estimate a distribution\n",
    "\n",
    "\n",
    "**What is the main purpose of bootstrapping?**\n",
    "\n",
    "To estimate the distribution with out strong assumption\n",
    "\n",
    "**If you had a (hypothesized) guess about what the average of a population was, and you had a sample of size n from that population, how could you use bootstrapping to assess whether or not your (hypothesized) guess might be plausible?**\n",
    "\n",
    "Draw many samples from the dataset at the size of n and calculate their important values separately. Then use these information to estimate a \n",
    "distribution to test the guess."
   ]
  },
  {
   "cell_type": "markdown",
   "id": "c8f9c058",
   "metadata": {},
   "source": [
    "## Q8"
   ]
  },
  {
   "cell_type": "code",
   "execution_count": 5,
   "id": "164a09e0",
   "metadata": {},
   "outputs": [
    {
     "name": "stdout",
     "output_type": "stream",
     "text": [
      "Mean Change in Health Score: 3.3\n",
      "T-Statistic: 2.5900615612703937\n",
      "P-Value: 0.02921052381549256\n",
      "95% Confidence Interval for the Mean Change: (0.4177833188707214, 6.182216681129278)\n",
      "The vaccine appears to be effective (reject the null hypothesis).\n"
     ]
    }
   ],
   "source": [
    "import pandas as pd\n",
    "import numpy as np\n",
    "from scipy import stats\n",
    "\n",
    "# Step 1: Load the data\n",
    "data = {\n",
    "    'PatientID': [1, 2, 3, 4, 5, 6, 7, 8, 9, 10],\n",
    "    'Age': [45, 34, 29, 52, 37, 41, 33, 48, 26, 39],\n",
    "    'Gender': ['M', 'F', 'M', 'F', 'M', 'F', 'M', 'F', 'M', 'F'],\n",
    "    'InitialHealthScore': [84, 78, 83, 81, 81, 80, 79, 85, 76, 83],\n",
    "    'FinalHealthScore': [86, 86, 80, 86, 84, 86, 86, 82, 83, 84]\n",
    "}\n",
    "\n",
    "df = pd.DataFrame(data)\n",
    "\n",
    "# Step 2: Calculate the change in health scores\n",
    "df['ChangeInHealthScore'] = df['FinalHealthScore'] - df['InitialHealthScore']\n",
    "\n",
    "# Step 3: Perform a one-sample t-test\n",
    "t_statistic, p_value = stats.ttest_1samp(df['ChangeInHealthScore'], 0)\n",
    "\n",
    "# Step 4: Calculate the mean change and confidence interval\n",
    "mean_change = np.mean(df['ChangeInHealthScore'])\n",
    "sem = stats.sem(df['ChangeInHealthScore'])\n",
    "confidence_interval = stats.t.interval(0.95, len(df['ChangeInHealthScore']) - 1, loc=mean_change, scale=sem)\n",
    "\n",
    "# Step 5: Interpret the results\n",
    "print(\"Mean Change in Health Score:\", mean_change)\n",
    "print(\"T-Statistic:\", t_statistic)\n",
    "print(\"P-Value:\", p_value)\n",
    "print(\"95% Confidence Interval for the Mean Change:\", confidence_interval)\n",
    "\n",
    "# Determine effectiveness based on p-value\n",
    "if p_value < 0.05:\n",
    "    print(\"The vaccine appears to be effective (reject the null hypothesis).\")\n",
    "else:\n",
    "    print(\"The vaccine does not appear to be effective (fail to reject the null hypothesis).\")\n"
   ]
  },
  {
   "cell_type": "markdown",
   "id": "cdeaee98",
   "metadata": {},
   "source": [
    "## Chatbot History"
   ]
  },
  {
   "cell_type": "markdown",
   "id": "b03e125e",
   "metadata": {},
   "source": [
    "Here's a summary of our conversation history:\n",
    "\n",
    "1. **Difference Between SEM and Standard Deviation**: You asked about the difference between the \"standard error of the mean\" (SEM) and the \"standard deviation\" of the original data, and what distinct ideas each captures.\n",
    "\n",
    "2. **Using SEM for Confidence Intervals**: You inquired about how to use the SEM to create a 95% confidence interval that covers 95% of the bootstrapped sample means.\n",
    "\n",
    "3. **Formulas for CI and SEM in Jupyter Notebook Markdown**: You requested the formulas for Confidence Interval (CI) and Standard Error of the Mean (SEM) formatted for Jupyter Notebook markdown.\n",
    "\n",
    "4. **Bootstrapped Confidence Interval without SEM**: You asked how to create a 95% bootstrapped confidence interval using bootstrapped means without relying on the standard error of the mean.\n",
    "\n",
    "5. **Code for 95% Bootstrap Confidence Interval**: You requested code to produce a 95% bootstrap confidence interval for a population mean based on a sample, along with comments to demonstrate how to adapt it for different population parameters.\n",
    "\n",
    "6. **Explanation of np.array**: You asked about the purpose and functionality of `np.array`.\n",
    "\n",
    "7. **Distinguishing Population Parameter and Sample Statistic**: You inquired about why it is important to differentiate between the population parameter and the sample statistic when discussing confidence intervals.\n",
    "\n",
    "8. **Vaccine Effectiveness Analysis**: Finally, you provided a dataset and asked for an analysis to determine whether the vaccine is effective, including the necessary statistical procedures.\n",
    "\n",
    "If you need more specific details about any part of our conversation, feel free to ask!"
   ]
  },
  {
   "cell_type": "markdown",
   "id": "36691a50",
   "metadata": {},
   "source": [
    "https://chatgpt.com/c/66fac974-5ab0-8004-a766-0c07f26f1462"
   ]
  },
  {
   "cell_type": "code",
   "execution_count": null,
   "id": "d7f40b8f",
   "metadata": {},
   "outputs": [],
   "source": []
  }
 ],
 "metadata": {
  "kernelspec": {
   "display_name": "Python 3 (ipykernel)",
   "language": "python",
   "name": "python3"
  },
  "language_info": {
   "codemirror_mode": {
    "name": "ipython",
    "version": 3
   },
   "file_extension": ".py",
   "mimetype": "text/x-python",
   "name": "python",
   "nbconvert_exporter": "python",
   "pygments_lexer": "ipython3",
   "version": "3.11.6"
  }
 },
 "nbformat": 4,
 "nbformat_minor": 5
}
